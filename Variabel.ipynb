{
 "cells": [
  {
   "cell_type": "code",
   "execution_count": 4,
   "id": "9ff32f84-dfac-4d29-b793-50172672472f",
   "metadata": {},
   "outputs": [
    {
     "name": "stdout",
     "output_type": "stream",
     "text": [
      "Nama : Dedi\n",
      "Umur : 20\n",
      "Alamat :, address\n",
      "Nilai Pemograman : 80.5\n",
      "Status Menikah : False\n"
     ]
    }
   ],
   "source": [
    "name = \"Dedi\"\n",
    "age = 20\n",
    "address, province = \"Jl. Cibolang\",\"7413412\"\n",
    "scorePython = 80.5\n",
    "isMarried = False\n",
    "\n",
    "print(\"Nama :\",name)\n",
    "print(\"Umur :\",age)\n",
    "print(\"Alamat :,address\")\n",
    "print(\"Nilai Pemograman :\", scorePython)\n",
    "print(\"Status Menikah :\", isMarried) "
   ]
  },
  {
   "cell_type": "code",
   "execution_count": 6,
   "id": "e1d476a0-2d25-4026-9854-ec76bbfe2322",
   "metadata": {},
   "outputs": [
    {
     "name": "stdout",
     "output_type": "stream",
     "text": [
      "Tipe Data <name> <class 'str'>\n",
      "Tipe Data <age> <class 'int'>\n",
      "Tipe Data <address> <class 'str'>\n",
      "Tipe Data <province> <class 'str'>\n",
      "Tipe Data <scorePython> <class 'float'>\n",
      "Tipe Data <isMarried> <class 'bool'>\n"
     ]
    }
   ],
   "source": [
    "print(\"Tipe Data <name>\",type(name))\n",
    "print(\"Tipe Data <age>\",type(age))\n",
    "print(\"Tipe Data <address>\",type(address))\n",
    "print(\"Tipe Data <province>\",type(province))\n",
    "print(\"Tipe Data <scorePython>\",type(scorePython))\n",
    "print(\"Tipe Data <isMarried>\",type(isMarried))"
   ]
  },
  {
   "cell_type": "code",
   "execution_count": 22,
   "id": "8686177c-441d-4e93-953a-dc690f2c7382",
   "metadata": {},
   "outputs": [
    {
     "name": "stdout",
     "output_type": "stream",
     "text": [
      "7413412_7413412.0_True\n",
      "7413412_7413412.0_True\n",
      "80.5_80_True\n",
      "0_0.0_False\n"
     ]
    }
   ],
   "source": [
    "#Casting atau Konversi Tipe Data\n",
    "#Konversi dari String ke (int,float,bool)\n",
    "strToInt = int(province)\n",
    "strToFloat = float(province)\n",
    "strToBool = bool(province)\n",
    "print(strToInt,strToFloat,strToBool, sep=\"_\")\n",
    "#Konversi dari int ke (str,float,bool)\n",
    "intToStr = str(age)\n",
    "intToStr = float(age)\n",
    "intToStr = bool(age)\n",
    "print(strToInt,strToFloat,strToBool, sep=\"_\")\n",
    "#Konversi dari float ke (str,int,bool)\n",
    "flootToStr = str(scorePython)\n",
    "flootToInt = int(scorePython)\n",
    "flootToBool = bool(scorePython)\n",
    "print(flootToStr,flootToInt,flootToBool, sep=\"_\")\n",
    "#Konversi dari bool ke (int,float,str)\n",
    "boolToInt = int(isMarried)\n",
    "boolToFloat = float(isMarried)\n",
    "boolToStr = str(isMarried)\n",
    "print(boolToInt,boolToFloat,boolToStr, sep=\"_\")"
   ]
  },
  {
   "cell_type": "code",
   "execution_count": 23,
   "id": "0c5e4452-aec5-4715-ae1f-155c28cdb4ec",
   "metadata": {},
   "outputs": [
    {
     "name": "stdout",
     "output_type": "stream",
     "text": [
      "S\n",
      "g\n"
     ]
    }
   ],
   "source": [
    "city = \"Semarang\"\n",
    "lenCity = len(city)\n",
    "print(city [0])\n",
    "print(city[lenCity-1])"
   ]
  },
  {
   "cell_type": "code",
   "execution_count": 19,
   "id": "9c033391-d6eb-4349-938c-94b4c5849e64",
   "metadata": {},
   "outputs": [
    {
     "name": "stdout",
     "output_type": "stream",
     "text": [
      "Nilai Desimal : 200\n",
      "Nilai Desimal dari 0xff: 255\n",
      "Nilai Desimal dari 0b1010: 10\n",
      "Nilai Desimal dari 0o377: 255\n",
      "===========\n",
      "Nilai Biner dari : 200 0b11001000\n",
      "Nilai Octal dari : 200 0o310\n",
      "Nilai Hexa dari : 200 0xc8\n"
     ]
    }
   ],
   "source": [
    "desimal = 200\n",
    "hexa = 0xff\n",
    "biner = 0b1010\n",
    "octal = 0o377\n",
    "\n",
    "print(\"Nilai Desimal :\",desimal)\n",
    "print(\"Nilai Desimal dari 0xff:\",hexa)\n",
    "print(\"Nilai Desimal dari 0b1010:\",biner)\n",
    "print(\"Nilai Desimal dari 0o377:\",octal)\n",
    "print(\"===========\")\n",
    "print(\"Nilai Biner dari :\",desimal, bin(desimal))\n",
    "print(\"Nilai Octal dari :\",desimal, oct(desimal))\n",
    "print(\"Nilai Hexa dari :\",desimal, hex(desimal))"
   ]
  },
  {
   "cell_type": "code",
   "execution_count": 48,
   "id": "813cf7e4-7e96-4ed9-8107-76d8990ba822",
   "metadata": {},
   "outputs": [
    {
     "name": "stdout",
     "output_type": "stream",
     "text": [
      "['Sukabumi', 'Bandung', 'Bogor', 'Jakarta']\n",
      "Sukabumi\n",
      "Jakarta\n",
      "['Sukabumi', 'Medan', 'Bogor', 'Jakarta']\n",
      "J\n",
      "('Andi', 'Budi', 'Caca')\n",
      "[{'name': 'Dedi', 'address': {'street': 'Cisaat', 'number': 21, 'province': 'West Java'}, 'hobbies': ['Basket', 'Football'], 'age': 23, 'isMarried': True}, {'name': 'Dedi', 'address': {'street': 'Cisaat', 'number': 21, 'province': 'West Java'}, 'hobbies': ['Basket', 'Football'], 'age': 23, 'isMarried': True}]\n",
      "West Java\n",
      "{'name': 'Dedi', 'address': {'street': 'Cisaat', 'number': 21, 'province': 'West Java'}, 'hobbies': ['Basket', 'Football'], 'age': 23, 'isMarried': True}\n",
      "Football\n",
      "23\n"
     ]
    }
   ],
   "source": [
    "#Tipe Data Collection\n",
    "\n",
    "cities = [\"Sukabumi\",\"Bandung\",\"Bogor\",\"Jakarta\"]\n",
    "print(cities)\n",
    "print(cities[0])\n",
    "print(cities[len(cities)-1])\n",
    "cities[1] = \"Medan\"\n",
    "print(cities)\n",
    "print(cities[len(cities)-1][0])\n",
    "\n",
    "#Tauple\n",
    "names = (\"Andi\",\"Budi\",\"Caca\")\n",
    "print(names)\n",
    "#names[0] = \"Rudi\" akan menyebabkan error, karena tuple adalah immutable\n",
    "\n",
    "studentData= {\n",
    "    \"name\" : \"Dedi\",\n",
    "    \"address\" : {\n",
    "        \"street\" : \"Cisaat\",\n",
    "        \"number\" : 21,\n",
    "        \"province\" : \"West Java\"\n",
    "    },\n",
    "    \"hobbies\" : [\"Basket\",\"Football\"],\n",
    "    \"age\" : 23,\n",
    "    \"isMarried\" : True\n",
    "}\n",
    "\n",
    "#List of Dictionary\n",
    "listStudent = [\n",
    "     {\n",
    "    \"name\" : \"Dedi\",\n",
    "    \"address\" : {\n",
    "        \"street\" : \"Cisaat\",\n",
    "        \"number\" : 21,\n",
    "        \"province\" : \"West Java\"\n",
    "    },\n",
    "    \"hobbies\" : [\"Basket\",\"Football\"],\n",
    "    \"age\" : 23,\n",
    "    \"isMarried\" : True\n",
    "},\n",
    "    {\n",
    "    \"name\" : \"Dedi\",\n",
    "    \"address\" : {\n",
    "        \"street\" : \"Cisaat\",\n",
    "        \"number\" : 21,\n",
    "        \"province\" : \"West Java\"\n",
    "    },\n",
    "    \"hobbies\" : [\"Basket\",\"Football\"],\n",
    "    \"age\" : 23,\n",
    "    \"isMarried\" : True\n",
    "}\n",
    "]\n",
    "\n",
    "print(listStudent)\n",
    "print(listStudent[0][\"address\"] [\"province\"]) #West Java\n",
    "print(listStudent[1]) #Semua data dari Budi\n",
    "print(listStudent[0] [\"hobbies\"] [1]) #Foot Ball - hobi dedi urutan ke 2\n",
    "print(listStudent [0] [\"age\"]) #23 - Umur Dedi"
   ]
  },
  {
   "cell_type": "code",
   "execution_count": 50,
   "id": "8fd3643b-1b5c-4291-94ea-28343afb68a1",
   "metadata": {},
   "outputs": [
    {
     "name": "stdout",
     "output_type": "stream",
     "text": [
      "{'name': 'Dika', 'nilai': 80}\n",
      "{'Buah': 'Apple', 'Harga': 10000}\n",
      "{'name': 'Dika', 'nilai': 80}\n",
      "{'Buah': 'Apple', 'Harga': 10000}\n",
      "{'name': 'Adi', 'age': 20, 'addres': 'Bandung'}\n"
     ]
    }
   ],
   "source": [
    "#Casting dictionary\n",
    "\n",
    "list_tuple = [(\"name\",\"Dika\"),(\"nilai\",80)]\n",
    "dictStudent = dict(list_tuple)\n",
    "print(dictStudent)\n",
    "\n",
    "list_list = [[\"Buah\",\"Apple\"],[\"Harga\",10000]]\n",
    "dictBuah = dict(list_list)\n",
    "print(dictBuah)\n",
    "\n",
    "touple_touple = ((\"name\",\"Dika\",\"nilai\",80))\n",
    "dictStudent = dict(list_tuple)\n",
    "print(dictStudent)\n",
    "\n",
    "touple_list = [[\"Buah\",\"Apple\"],[\"Harga\",10000]]\n",
    "dictBuah = dict(list_list)\n",
    "print(dictBuah)\n",
    "\n",
    "keys = [\"name\",\"age\",\"addres\"]\n",
    "values = [\"Adi\",20,\"Bandung\"]\n",
    "\n",
    "dictData = dict(zip(keys,values))\n",
    "print(dictData)"
   ]
  },
  {
   "cell_type": "code",
   "execution_count": null,
   "id": "8aad58db-8e1e-49f7-bfb5-534c08ef5dc7",
   "metadata": {},
   "outputs": [],
   "source": []
  }
 ],
 "metadata": {
  "kernelspec": {
   "display_name": "Python 3 (ipykernel)",
   "language": "python",
   "name": "python3"
  },
  "language_info": {
   "codemirror_mode": {
    "name": "ipython",
    "version": 3
   },
   "file_extension": ".py",
   "mimetype": "text/x-python",
   "name": "python",
   "nbconvert_exporter": "python",
   "pygments_lexer": "ipython3",
   "version": "3.12.7"
  }
 },
 "nbformat": 4,
 "nbformat_minor": 5
}
