{
 "cells": [
  {
   "cell_type": "markdown",
   "id": "03e8b561-c155-4ec6-bf07-4ec936830231",
   "metadata": {},
   "source": [
    "<h1> Jawaban 1 Biodata Sederhana"
   ]
  },
  {
   "cell_type": "code",
   "execution_count": 2,
   "id": "b75589f7-3fe5-48a2-a905-6edbbc13f1bf",
   "metadata": {},
   "outputs": [
    {
     "name": "stdin",
     "output_type": "stream",
     "text": [
      "Masukan nama lengkap: Dhea Aprilya\n",
      "Masukkan tempat lahir Sukabumi\n",
      "Masukkan tanggal lahir 03 April 2006\n",
      "Masukkan pekerjaan: Mahasiswa\n",
      "Masukkan alamat: Nagrak\n",
      "Masukkan jenis kelamin: Perumpuan\n",
      "Masukkan alamat email: dhea.aprilya_ti24@nusaputra.ac.id\n"
     ]
    },
    {
     "name": "stdout",
     "output_type": "stream",
     "text": [
      "\n",
      "========== Biodata Sederhana ==========\n",
      "\n",
      "Nama Lengkap             : Dhea Aprilya\n",
      "Tempat dan Tanggal Lahir : Sukabumi, 03 April 2006\n",
      "Alamat                   : Nagrak\n",
      "Jenis Kelamin            : Perumpuan\n",
      "Alamat Email             : dhea.aprilya_ti24@nusaputra.ac.id\n"
     ]
    }
   ],
   "source": [
    "nama = input(\"Masukan nama lengkap:\")\n",
    "tempat = input(\"Masukkan tempat lahir\")\n",
    "tglLahir = input(\"Masukkan tanggal lahir\")\n",
    "pekerjaan = input(\"Masukkan pekerjaan:\")\n",
    "alamat = input(\"Masukkan alamat:\")\n",
    "jnsKelamin = input(\"Masukkan jenis kelamin:\")\n",
    "email = input(\"Masukkan alamat email:\")\n",
    "\n",
    "print(\"\\n========== Biodata Sederhana ==========\\n\")\n",
    "print(\"Nama Lengkap             : {}\".format(nama))\n",
    "print(\"Tempat dan Tanggal Lahir : {}, {}\".format(tempat,tglLahir))\n",
    "print(\"Alamat                   : {}\".format(alamat))\n",
    "print(\"Jenis Kelamin            : {}\".format(jnsKelamin))\n",
    "print(\"Alamat Email             : {}\".format(email))"
   ]
  },
  {
   "cell_type": "markdown",
   "id": "aa8e511c-49f7-489f-8e15-dc6379f9c1f8",
   "metadata": {},
   "source": [
    "<h1>Jawaban 2 Kalimat</h1>"
   ]
  },
  {
   "cell_type": "code",
   "execution_count": 1,
   "id": "d3a62d85-f09c-4d0d-9377-adf5c82ebdf7",
   "metadata": {},
   "outputs": [
    {
     "name": "stdin",
     "output_type": "stream",
     "text": [
      "Isikan Kalimat Depan: UNIVERSITAS\n",
      "Isikan Kalimat Tengah Pertama: NUSA\n",
      "Isikan Kalimat Tengah kedua: PUTRA\n",
      "Isikan Kalimat Belakang: SUKABUMI\n"
     ]
    },
    {
     "name": "stdout",
     "output_type": "stream",
     "text": [
      "1. putra nusa\n",
      "2. NIVERSITAS NSA PTRA SKABMI\n",
      "3. SUKABUMI PUTRA NUSA UNIVERSITAS\n",
      "4. UNPS\n",
      "5. TAS SAPU BUMI\n"
     ]
    }
   ],
   "source": [
    "satKal = input(\"Isikan Kalimat Depan:\")\n",
    "duKal = input(\"Isikan Kalimat Tengah Pertama:\")\n",
    "tiKal = input(\"Isikan Kalimat Tengah kedua:\")\n",
    "emKal = input(\"Isikan Kalimat Belakang:\")\n",
    "\n",
    "print (\"1. {2} {1}\". format (satKal.lower(),duKal.lower(),tiKal.lower(),emKal.lower()))\n",
    "print(\"2.\", satKal.replace(\"U\",\"\")  + \" \" + duKal.replace(\"U\",\"\") + \" \" + tiKal.replace(\"U\",\"\") + \" \" + emKal.replace(\"U\",\"\"))\n",
    "print (\"3. {belakang} {tengah2} {tengah1} {depan}\". format (depan=satKal,tengah1=duKal,tengah2=tiKal,belakang=emKal))\n",
    "print(\"4.\", satKal[0] + duKal[0] + tiKal[0] + emKal[0])\n",
    "print(\"5.\", satKal[8:],duKal[2:] + tiKal[:2],emKal[4:])"
   ]
  }
 ],
 "metadata": {
  "kernelspec": {
   "display_name": "Python 3 (ipykernel)",
   "language": "python",
   "name": "python3"
  },
  "language_info": {
   "codemirror_mode": {
    "name": "ipython",
    "version": 3
   },
   "file_extension": ".py",
   "mimetype": "text/x-python",
   "name": "python",
   "nbconvert_exporter": "python",
   "pygments_lexer": "ipython3",
   "version": "3.12.7"
  }
 },
 "nbformat": 4,
 "nbformat_minor": 5
}
