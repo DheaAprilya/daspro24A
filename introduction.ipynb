{
 "cells": [
  {
   "cell_type": "markdown",
   "id": "c3dcb408-9eed-4774-bee4-672b29b221af",
   "metadata": {},
   "source": [
    "<img src=\"https://miro.medium.com/v2/resize:fit:786/format:webp/1*DJilZ9HCbwgLcKuPYze2zw.png\" width=\"300\"></center>br>\n",
    "Tutorial Jupiter Notebook<br>\n",
    "Tempat menuliskan kode disebut sebagai <b>cell</b><br>\n",
    "<ol>\n",
    "    <li>Code - Y</li>\n",
    "    <li>Markdown - M</li>\n",
    "</ol>\n",
    "<hr>\n",
    "Cara menjalankan cell<br>\n",
    "<table>\n",
    "    <tr>\n",
    "        <td>Command </td>\n",
    "        <td>Keterangan</td>\n",
    "    </tr>\n",
    "    <tr>\n",
    "        <td>ctrl + enter</td>\n",
    "        <td>Running dan fokus di cell aktif</td>\n",
    "    </tr>\n",
    "    <tr>\n",
    "        <td>shift + enter</td>\n",
    "        <td>Running dan fokus di cell berikutnya</td>\n",
    "    </tr>\n",
    "</table>"
   ]
  },
  {
   "cell_type": "markdown",
   "id": "b327066c-ead1-4895-bed2-c4f2535ad9e4",
   "metadata": {},
   "source": [
    "Menambahkan Cell ada 2 cara\n",
    "<ul>\n",
    "    <li>Tekan A -> Above</li>\n",
    "    <li>Tekan B -> Below</li>\n",
    "</ul>\n",
    "Cara membuat output di python adalah <br>\n",
    "``` print (teks yang akan di print) ```"
   ]
  },
  {
   "cell_type": "markdown",
   "id": "e5ef45e3-12b9-455b-af92-1c493186eec9",
   "metadata": {},
   "source": [
    "#Cetak tulisan selamat belajar python\n",
    "print (<selamat belajar python>)\n",
    "data = \"selamat belajar variabel\"\n",
    "print(data)"
   ]
  },
  {
   "cell_type": "markdown",
   "id": "3204de1a-f265-4c9a-8bc1-f946554a7fe7",
   "metadata": {},
   "source": [
    "selamat belajar python\n",
    "selamat belajar python"
   ]
  },
  {
   "cell_type": "markdown",
   "id": "bff121f2-dc92-4b68-8566-5c76693c3fc6",
   "metadata": {},
   "source": [
    "print(data)\n",
    "data\n",
    "3 + 2\n",
    "num1 = 6\n",
    "num2 = 9\n",
    "num1 + num2"
   ]
  },
  {
   "cell_type": "markdown",
   "id": "8bef1544-ce2d-4119-b98b-eac309c8f4b2",
   "metadata": {},
   "source": []
  }
 ],
 "metadata": {
  "kernelspec": {
   "display_name": "Python 3 (ipykernel)",
   "language": "python",
   "name": "python3"
  },
  "language_info": {
   "codemirror_mode": {
    "name": "ipython",
    "version": 3
   },
   "file_extension": ".py",
   "mimetype": "text/x-python",
   "name": "python",
   "nbconvert_exporter": "python",
   "pygments_lexer": "ipython3",
   "version": "3.12.7"
  }
 },
 "nbformat": 4,
 "nbformat_minor": 5
}
