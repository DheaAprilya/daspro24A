{
 "cells": [
  {
   "cell_type": "code",
   "execution_count": null,
   "id": "394c8301-4c01-47d2-b2d1-1d4062369616",
   "metadata": {},
   "outputs": [],
   "source": [
    "def reverse_per_kata(kalimat):\n",
    "    lisKata = kalimat.split() #split dipakai untuk memisahkan kalimat ke dalam elemen kata menggunakan spasi sebagai pemisah.\n",
    "    hasil = [kata[::-1] for kata in lisKata] #list comprehension dapat membalik susunan huruf dalam sebuah kata. Ekspresi \"[kata[::-1]]\" membaca seluruh karakter dari akhir ke awal.\n",
    "    return ' '.join(hasil) #menggabungkan kembali daftar kata yang sudah dibalikkan menjadi satu string dengan spasi pemisah \" \".\n",
    "\n",
    "print(reverse_per_kata('AKU CINTA KAMU'))\n",
    "# Output: \"UKA ATNIC UMAK\"\n",
    "\n",
    "def urutkan_kalimat(kalimat, urutan):\n",
    "    lisKata = kalimat.split()#split dipakai untuk memisahkan kalimat ke dalam elemen kata menggunakan spasi sebagai pemisah.\n",
    "    hasil = [lisKata[kalimat_item - 1] for kalimat_item in urutan] #\"[kalimat_item - 1]\" Indeks dalam Python dimulai dari 0, maka menggeser \"-1\" pengambilan indeks dari indeks ke 4 \n",
    "    return ' '.join(hasil) #menggabungkan kembali daftar kata yang sudah dibalikkan menjadi satu string dengan spasi pemisah \" \".\n",
    "\n",
    "print(urutkan_kalimat('HARI INI SEDANG BELAJAR PYTHON', [5, 1, 4, 3, 2]))\n",
    "# Output: \"PYTHON HARI BELAJAR SEDANG INI\"\n",
    "\n",
    "def ganti_vokal(kalimat, opsi):\n",
    "    vokal_kecil = {'a':'4', 'i':'1', 'u':'|_|', 'e':'3', 'o':'0'} #Mengubah huruf vokal kecil menjadi karakter spesial.\n",
    "    vokal_kapital = {'A':'4', 'I':'1', 'U':'|_|', 'E':'3', 'O':'0'} #Mengubah huruf vokal kapital menjadi karakter spesial.\n",
    "    hasil = ' ' #enyimpan teks yang sudah dimodifikasi\n",
    "    for huruf in kalimat:\n",
    "        if opsi == 1 and huruf in vokal_kecil:\n",
    "            hasil += vokal_kecil[huruf]\n",
    "        elif opsi == 2 and huruf in vokal_kapital:\n",
    "            hasil += vokal_kapital[huruf]\n",
    "        else:\n",
    "            hasil += huruf\n",
    "    return hasil\n",
    "\n",
    "print(ganti_vokal('Aku Cinta Kamu', 1))\n",
    "print(ganti_vokal('Aku Cinta Kamu', 2))\n",
    "# Output1: \"Ak|_| C1nt4 K4m|_|\"\n",
    "# Output2: \"4ku Cinta Kamu\""
   ]
  }
 ],
 "metadata": {
  "kernelspec": {
   "display_name": "Python 3 (ipykernel)",
   "language": "python",
   "name": "python3"
  },
  "language_info": {
   "codemirror_mode": {
    "name": "ipython",
    "version": 3
   },
   "file_extension": ".py",
   "mimetype": "text/x-python",
   "name": "python",
   "nbconvert_exporter": "python",
   "pygments_lexer": "ipython3",
   "version": "3.12.7"
  }
 },
 "nbformat": 4,
 "nbformat_minor": 5
}
