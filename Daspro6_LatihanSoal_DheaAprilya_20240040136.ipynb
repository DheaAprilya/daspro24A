{
 "cells": [
  {
   "cell_type": "markdown",
   "id": "34520b30-1a66-4199-9bf9-f58a6b1ac4ed",
   "metadata": {},
   "source": [
    "Buatlah program yang meminta pengguna memasukkan usia seseorang, lalu tentukan apakah dia\n",
    "anak-anak (0-12 tahun), remaja (13-17 tahun), dewasa (18-59 tahun), atau lansia (60 tahun ke atas)."
   ]
  },
  {
   "cell_type": "code",
   "execution_count": 9,
   "id": "c588b2df-51f6-47e3-a946-e9a9a603f8c9",
   "metadata": {},
   "outputs": [
    {
     "name": "stdin",
     "output_type": "stream",
     "text": [
      "Masukan usia: 19\n"
     ]
    },
    {
     "name": "stdout",
     "output_type": "stream",
     "text": [
      "dewasa usia 18 - 59 tahun\n"
     ]
    }
   ],
   "source": [
    "usia = int(input(\"Masukan usia:\"))\n",
    "\n",
    "if usia <= 12:\n",
    "    print(\"anak-anak usia 0 - 12 tahun\")\n",
    "elif usia <= 17:\n",
    "    print(\"remaja usia 13 - 17 tahun\")\n",
    "elif usia <= 59:\n",
    "    print(\"dewasa usia 18 - 59 tahun\")\n",
    "else:\n",
    "    print(\"lansia usia 60 tahun ke atas\")"
   ]
  },
  {
   "cell_type": "markdown",
   "id": "ac43f263-874c-4d7e-89e5-f16c6110d19c",
   "metadata": {},
   "source": [
    "Sebuah taman hiburan memiliki aturan harga tiket berdasarkan usia:\n",
    "\n",
    "1. Anak-anak (0-12 tahun): Rp 10.000\n",
    "2. Remaja (13-17 tahun): Rp 15.000\n",
    "3. Dewasa (18-59 tahun): Rp 25.000\n",
    "4. Lansia (60 tahun ke atas): Gratis\n",
    "\n",
    "Buat program untuk menentukan harga tiket berdasarkan usia yang dimasukkan pengguna dan total harga yang harus dibayar, jika terdapat 3 input seperti berikut ini"
   ]
  },
  {
   "cell_type": "code",
   "execution_count": 10,
   "id": "ee915f2a-2522-4272-a3d2-84ba603dfc14",
   "metadata": {},
   "outputs": [
    {
     "name": "stdin",
     "output_type": "stream",
     "text": [
      "Isikan Umur Tiket 1: 12\n",
      "Isikan Umur Tiket 2:  17\n",
      "Isikan Umur Tiket 3:  40\n"
     ]
    },
    {
     "name": "stdout",
     "output_type": "stream",
     "text": [
      "\n",
      "Harga tiket 1 adalah Rp 10000\n",
      "Harga tiket 2 adalah Rp 15000\n",
      "Harga tiket 3 adalah Rp 25000\n",
      "\n",
      "Total harga yang harus dibayar adalah Rp 50000\n"
     ]
    }
   ],
   "source": [
    "tiket1 = int(input(\"Isikan Umur Tiket 1:\"))\n",
    "tiket2 = int(input(\"Isikan Umur Tiket 2: \"))\n",
    "tiket3 = int(input(\"Isikan Umur Tiket 3: \"))\n",
    "\n",
    "# Tiket 1\n",
    "if tiket1 <= 12:\n",
    "    hargaTiket1 = 10000\n",
    "    print(f\"\\nHarga tiket 1 adalah Rp {hargaTiket1}\")\n",
    "elif tiket1 <= 17:\n",
    "    hargaTiket1 = 15000\n",
    "    print(f\"\\nHarga tiket 1 adalah Rp {hargaTiket1}\")\n",
    "elif tiket1 <= 59:\n",
    "    hargaTiket1 = 25000\n",
    "    print(f\"\\nHarga tiket 1 adalah Rp {hargaTiket1}\")\n",
    "else:\n",
    "    hargaTiket1 = 0\n",
    "    print(f\"\\nHarga tiket 1 adalah Rp {hargaTiket1}\")\n",
    "\n",
    "# Tiket 2\n",
    "if tiket2 <= 12:\n",
    "    hargaTiket2 = 10000\n",
    "    print(f\"Harga tiket 2 adalah Rp {hargaTiket2}\")\n",
    "elif tiket2 <= 17:\n",
    "    hargaTiket2 = 15000\n",
    "    print(f\"Harga tiket 2 adalah Rp {hargaTiket2}\")\n",
    "elif tiket2 <= 59:\n",
    "    hargaTiket2 = 25000\n",
    "    print(f\"Harga tiket 2 adalah Rp {hargaTiket2}\")\n",
    "else:\n",
    "    hargaTiket2 = 0\n",
    "    print(f\"Harga tiket 2 adalah Rp {hargaTiket2}\")\n",
    "\n",
    "# Tiket 3\n",
    "if tiket3 <= 12:\n",
    "    hargaTiket3 = 10000\n",
    "    print(f\"Harga tiket 3 adalah Rp {hargaTiket3}\")\n",
    "elif tiket3 <= 17:\n",
    "    hargaTiket3 = 15000\n",
    "    print(f\"Harga tiket 3 adalah Rp {hargaTiket3}\")\n",
    "elif tiket3 <= 59:\n",
    "    hargaTiket3 = 25000\n",
    "    print(f\"Harga tiket 3 adalah Rp {hargaTiket3}\")\n",
    "else:\n",
    "    hargaTiket3 = 0\n",
    "    print(f\"Harga tiket 3 adalah Rp {hargaTiket3}\")\n",
    "\n",
    "totalHarga = hargaTiket1 + hargaTiket2 + hargaTiket3\n",
    "print(f\"\\nTotal harga yang harus dibayar adalah Rp {totalHarga}\")"
   ]
  },
  {
   "cell_type": "markdown",
   "id": "099412a6-d52b-4b26-979d-8d35a42679d2",
   "metadata": {},
   "source": [
    "Sebuah restoran memiliki diskon khusus: Anak-anak (0-12 tahun) diskon 50% Lansia (60 tahun ke atas) diskon 30% Selain itu, tidak ada diskon Buat program untuk menghitung harga yang harus dibayar setelah diskon diberikan."
   ]
  },
  {
   "cell_type": "code",
   "execution_count": 15,
   "id": "be98170a-c1eb-4c5a-8f4e-03c28e181f49",
   "metadata": {},
   "outputs": [
    {
     "name": "stdin",
     "output_type": "stream",
     "text": [
      "Masukkan harga makanan:  10000\n",
      "Masukkan usia:  12\n"
     ]
    },
    {
     "name": "stdout",
     "output_type": "stream",
     "text": [
      "Harga makanan sebelum diskon: Rp 10000\n",
      "Anda mendapat diskon sebesar 50.0%\n",
      "Harga yang harus dibayar setelah mendapatkan diskon 50.0% adalah Rp 5000.0\n"
     ]
    }
   ],
   "source": [
    "hargaMakanan = int(input(\"Masukkan harga makanan: \"))\n",
    "usia = int(input(\"Masukkan usia: \"))\n",
    "\n",
    "if usia <= 12:\n",
    "    diskon = 0.50 # Anak-anak (0-12 tahun) diskon 50%\n",
    "elif usia >= 60:\n",
    "    diskon = 0.30 # Lansia (60 tahun ke atas) diskon 30%\n",
    "else:\n",
    "    diskon = 0 # Usia lainnya tidak ada diskon\n",
    "\n",
    "hargaSetelahDiskon = hargaMakanan * diskon\n",
    "hargaTotal = hargaMakanan - hargaSetelahDiskon\n",
    "\n",
    "print(f\"Harga makanan sebelum diskon: Rp {hargaMakanan}\")\n",
    "print(f\"Anda mendapat diskon sebesar {diskon * 100}%\")\n",
    "print(f\"Harga yang harus dibayar setelah mendapatkan diskon {diskon * 100}% adalah Rp {hargaTotal}\")"
   ]
  },
  {
   "cell_type": "markdown",
   "id": "eee23a5b-3ced-4168-8d8f-860c94b1b5d3",
   "metadata": {},
   "source": [
    "Program beasiswa:\n",
    "\n",
    "1. Jika nilai rapor ≥ 90 dan penghasilan orang tua < Rp 5.000.000 → Beasiswa Penuh\n",
    "2. Jika nilai rapor ≥ 85 dan penghasilan orang tua < Rp 8.000.000 → Beasiswa 50%\n",
    "3. Jika tidak memenuhi syarat di atas → Tidak mendapatkan beasiswa"
   ]
  },
  {
   "cell_type": "code",
   "execution_count": 16,
   "id": "1f90ef72-eef1-459e-ba9e-318cb179e51b",
   "metadata": {},
   "outputs": [
    {
     "name": "stdin",
     "output_type": "stream",
     "text": [
      "Masukan nilai rapor: 95\n",
      "Masukan penghasilan orang tua: 500000\n"
     ]
    },
    {
     "name": "stdout",
     "output_type": "stream",
     "text": [
      "Beasiswa Penuh\n"
     ]
    }
   ],
   "source": [
    "nilaiRapor = int(input(\"Masukan nilai rapor:\"))\n",
    "penghasilanOrTu = int(input(\"Masukan penghasilan orang tua:\"))\n",
    "\n",
    "if nilaiRapor >= 90 and penghasilanOrTu < 5000000:\n",
    "    print(\"Beasiswa Penuh\")\n",
    "elif nilaiRapor >= 85 and penghasilanOrTu < 8000000:\n",
    "    print(\"Beasiswa 50%\")\n",
    "else:\n",
    "    print(\"Tidak mendapatkan beasiswa\")"
   ]
  },
  {
   "cell_type": "markdown",
   "id": "86215fc9-bb51-433b-ac1d-a30cfd985676",
   "metadata": {},
   "source": [
    "Suatu aplikasi streaming memiliki batasan usia:\n",
    "\n",
    "1. Film Semua Umur: Bisa ditonton oleh siapa saja\n",
    "2. Film Remaja: Hanya untuk usia ≥ 13 tahun\n",
    "3. Film Dewasa: Hanya untuk usia ≥ 18 tahun\n",
    " \n",
    "Buat program yang meminta input usia dan kategori film, lalu tentukan apakah seseorang boleh menonton film tersebut atau tidak."
   ]
  },
  {
   "cell_type": "code",
   "execution_count": 19,
   "id": "b94ebb51-5e04-45f2-b153-2debd3ca3fcc",
   "metadata": {},
   "outputs": [
    {
     "name": "stdin",
     "output_type": "stream",
     "text": [
      "Masukan usia: 13\n"
     ]
    },
    {
     "name": "stdout",
     "output_type": "stream",
     "text": [
      "Kategori Film: \n",
      "- Semua Umur \n",
      "- Remaja \n",
      "- Dewasa\n"
     ]
    },
    {
     "name": "stdin",
     "output_type": "stream",
     "text": [
      "Masukan kategori film: Action\n"
     ]
    },
    {
     "name": "stdout",
     "output_type": "stream",
     "text": [
      "Tidak boleh menonton film\n"
     ]
    }
   ],
   "source": [
    "usia = int(input(\"Masukan usia:\"))\n",
    "print(f\"Kategori Film: \\n- Semua Umur \\n- Remaja \\n- Dewasa\")\n",
    "film = input(\"Masukan kategori film:\")\n",
    "\n",
    "if usia >= 13 and film == \"Remaja\":\n",
    "    print(\"Boleh menonton film\")\n",
    "elif usia >= 18 and film == \"Dewasa\":\n",
    "    print(\"Boleh menonton film\")\n",
    "elif usia >= 0 and film == \"Semua Umur\":\n",
    "    print(\"Boleh menonton film\")\n",
    "else:\n",
    "    print(\"Tidak boleh menonton film\")"
   ]
  },
  {
   "cell_type": "markdown",
   "id": "6a596c83-57fe-45bb-ac6f-c36e1cbcde0a",
   "metadata": {},
   "source": [
    "Sebuah toko memberikan diskon berdasarkan jumlah pembelian:\n",
    "\n",
    "1. Jika total belanja ≥ Rp 500.000 → Diskon 20%\n",
    "2. Jika total belanja ≥ Rp 250.000 → Diskon 10%\n",
    "3. Jika total belanja < Rp 250.000 → Tidak ada diskon\n",
    "   \n",
    "Hitung harga akhir setelah diskon."
   ]
  },
  {
   "cell_type": "code",
   "execution_count": 20,
   "id": "131735f6-9dd1-4df7-88bc-308f2fd9cd84",
   "metadata": {},
   "outputs": [
    {
     "name": "stdin",
     "output_type": "stream",
     "text": [
      "Masukan total belanja: 300000\n"
     ]
    },
    {
     "name": "stdout",
     "output_type": "stream",
     "text": [
      "\n",
      "Total belanja sebelum diskon: Rp 300000\n",
      "\n",
      "Anda mendapat diskon sebesar 10.0%\n",
      "\n",
      "Harga akhir setelah mendapatkan diskon 10.0% adalah Rp 270000.0\n"
     ]
    }
   ],
   "source": [
    "totalBelanja = int(input(\"Masukan total belanja:\"))\n",
    "\n",
    "if totalBelanja >= 500000:\n",
    "    diskon = 0.20\n",
    "elif totalBelanja >= 250000:\n",
    "    diskon = 0.10\n",
    "else:\n",
    "    diskon = 0\n",
    "\n",
    "totalSetelahDiskon = totalBelanja * diskon\n",
    "hargaAkhir = totalBelanja - totalSetelahDiskon\n",
    "\n",
    "print(f\"\\nTotal belanja sebelum diskon: Rp {totalBelanja}\")\n",
    "print(f\"\\nAnda mendapat diskon sebesar {diskon * 100}%\")\n",
    "print(f\"\\nHarga akhir setelah mendapatkan diskon {diskon * 100}% adalah Rp {hargaAkhir}\")"
   ]
  },
  {
   "cell_type": "markdown",
   "id": "38f6113d-1f58-4d8a-baa7-9920700bb341",
   "metadata": {},
   "source": [
    "Total belanja sebelum diskon: Rp 500000\n",
    "\n",
    "Anda mendapat diskon sebesar 20.0%\n",
    "\n",
    "Harga akhir setelah mendapatkan diskon 20.0% adalah Rp 400000.0\n",
    "Program parkir:\n",
    "\n",
    "1. Mobil: Rp 5.000 per jam\n",
    "2. Motor: Rp 2.000 per jam\n",
    "3. Jika parkir lebih dari 5 jam, ada biaya tambahan Rp 10.000\n",
    "   \n",
    "Hitung total biaya parkir berdasarkan jenis kendaraan dan durasi parkir."
   ]
  },
  {
   "cell_type": "code",
   "execution_count": 21,
   "id": "95416005-9db6-417d-8e91-652c4eebdbe5",
   "metadata": {},
   "outputs": [
    {
     "name": "stdout",
     "output_type": "stream",
     "text": [
      "Program parkir: \n",
      "- Mobil \n",
      "- Motor\n",
      "\n"
     ]
    },
    {
     "name": "stdin",
     "output_type": "stream",
     "text": [
      "Masukan kategori kendaraan: Motor\n"
     ]
    },
    {
     "name": "stdout",
     "output_type": "stream",
     "text": [
      "\n",
      "Program parkir: \n",
      "Mobil: Rp 5.000 per jam \n",
      "Motor: Rp 2.000 per jam \n",
      "Jika parkir lebih dari 5 jam, ada biaya tambahan Rp 10.000 !!!\n",
      "\n"
     ]
    },
    {
     "name": "stdin",
     "output_type": "stream",
     "text": [
      "Masukan berapa jam anda parkir: 2\n"
     ]
    },
    {
     "name": "stdout",
     "output_type": "stream",
     "text": [
      "\n",
      "Total biaya parkir adalah Rp 4000\n"
     ]
    }
   ],
   "source": [
    "print(f\"Program parkir: \\n- Mobil \\n- Motor\\n\")\n",
    "kendaraan = input(\"Masukan kategori kendaraan:\")\n",
    "\n",
    "print(f\"\\nProgram parkir: \\nMobil: Rp 5.000 per jam \\nMotor: Rp 2.000 per jam \\nJika parkir lebih dari 5 jam, ada biaya tambahan Rp 10.000 !!!\\n\")\n",
    "jamParkir = int(input(\"Masukan berapa jam anda parkir:\"))\n",
    "\n",
    "if kendaraan == \"Mobil\":\n",
    "    biayaPerJam = 5000\n",
    "elif kendaraan == \"Motor\":\n",
    "    biayaPerJam = 2000\n",
    "\n",
    "biaya = biayaPerJam * jamParkir\n",
    "if jamParkir > 5:\n",
    "    biaya += 10000\n",
    "    print(f\"\\nKarena parkir lebih dari 5 jam, ada biaya tambahan Rp 10.000\")\n",
    "\n",
    "print(f\"\\nTotal biaya parkir adalah Rp {biaya}\")"
   ]
  },
  {
   "cell_type": "markdown",
   "id": "b1764c3f-b05b-4914-9fad-ff7560c714d9",
   "metadata": {},
   "source": [
    "Aplikasi transportasi online memiliki tarif sebagai berikut:\n",
    "\n",
    "1. Jika jarak ≤ 5 km → Rp 5.000/km\n",
    "2. Jika jarak 6-10 km → Rp 4.000/km\n",
    "3.  Jika jarak > 10 km → Rp 3.000/km\n",
    "   \n",
    "Hitung tarif perjalanan berdasarkan jarak yang dimasukkan pengguna."
   ]
  },
  {
   "cell_type": "code",
   "execution_count": 22,
   "id": "e8874965-b336-4f09-94e0-2af8206756f8",
   "metadata": {},
   "outputs": [
    {
     "name": "stdin",
     "output_type": "stream",
     "text": [
      "Masukkan jarak perjalanan:  4500\n"
     ]
    },
    {
     "name": "stdout",
     "output_type": "stream",
     "text": [
      "Tarif perjalanan untuk 4500 km adalah: Rp 13500000\n"
     ]
    }
   ],
   "source": [
    "jarak = int(input(\"Masukkan jarak perjalanan: \"))\n",
    "\n",
    "if jarak <= 5:\n",
    "    tarif_per_km = 5000\n",
    "elif jarak <= 10:\n",
    "    tarif_per_km = 4000\n",
    "else:\n",
    "    tarif_per_km = 3000\n",
    "\n",
    "totalTarif = tarif_per_km * jarak\n",
    "\n",
    "print(f\"Tarif perjalanan untuk {jarak} km adalah: Rp {totalTarif}\")"
   ]
  },
  {
   "cell_type": "markdown",
   "id": "b66ece9d-e2ef-4d2d-aa80-fbbb9f25a097",
   "metadata": {},
   "source": [
    "Buatlah sebuah sistem penerimaan calon programmer yang akan menerima dua nilai ( nilai coding dan nilai interview). Untuk penilaian test coding skala penilaian yang diberikan dimulai dari 0 hingga 100 dengan sistem penilaian:\n",
    "\n",
    "1. ketika seseorang mendapatkan nilai lebih dari 80 maka peserta tersebut akan mendapatkan hasil tes LOLOS\n",
    "2. ketika sesorang mendapatkan nilai diantara 60 hingga 80 maka peserta tersebut mendapatkan hasil tes DIPERTIMBANGKAN\n",
    "3. ketika seseorang mendapatkan nilai dibawah 60 maka peserta tersebut mendapatkan hasil tes GAGAL.\n",
    "   \n",
    "Sedangkan untuk penilaian interview adalah\n",
    "\n",
    "1. ketika nilai yang diberikan kepada seseorang tersebut adalah \"A\" atau \"B\" maka peserta tersebut dianggap LOLOS interview\n",
    "2. selain kedua nilai tersebut maka peserta dianggap GAGAL tes interview.\n",
    "   \n",
    "Ketika calon programmer mendapatkan nilai coding LOLOS atau DIPERTIMBANGKAN dan juga LOLOS test interview maka tampilkanlah pesan \"Selamat Kamu Berhasil Menjadi Calon Programmer\". Jika tidak maka tampilkanlah pesan \"Maaf Kamu Belum Berhasil Menjadi Calon Programmer\""
   ]
  },
  {
   "cell_type": "code",
   "execution_count": 23,
   "id": "4d446cdb-9d27-490b-a74b-fa5e2a85faa4",
   "metadata": {},
   "outputs": [
    {
     "name": "stdin",
     "output_type": "stream",
     "text": [
      "Masukkan nilai coding (0-100):  67\n",
      "Masukkan nilai interview (A/B/C/D/E):  B\n"
     ]
    },
    {
     "name": "stdout",
     "output_type": "stream",
     "text": [
      "Selamat Kamu Berhasil Menjadi Calon Programmer\n"
     ]
    }
   ],
   "source": [
    "nilaiCoding = int(input(\"Masukkan nilai coding (0-100): \"))\n",
    "\n",
    "nilaiInterview = input(\"Masukkan nilai interview (A/B/C/D/E): \")\n",
    "\n",
    "# Penilaian nilai coding\n",
    "if nilaiCoding > 80:\n",
    "    hasilCoding = \"LOLOS\"\n",
    "elif nilaiCoding >= 60:\n",
    "    hasilCoding = \"DIPERTIMBANGKAN\"\n",
    "else:\n",
    "    hasilCoding = \"GAGAL\"\n",
    "\n",
    "# Penilaian nilai interview\n",
    "if nilaiInterview == \"A\" or nilaiInterview == \"B\":\n",
    "    hasilInterview = \"LOLOS\"\n",
    "else:\n",
    "    hasilInterview = \"GAGAL\"\n",
    "\n",
    "# Menentukan kelulusan calon programmer\n",
    "if (hasilCoding == \"LOLOS\" or hasilCoding == \"DIPERTIMBANGKAN\") and hasilInterview == \"LOLOS\":\n",
    "    print(\"Selamat Kamu Berhasil Menjadi Calon Programmer\")\n",
    "else:\n",
    "    print(\"Maaf Kamu Belum Berhasil Menjadi Calon Programmer\")"
   ]
  },
  {
   "cell_type": "markdown",
   "id": "b323944f-a968-4f30-96ca-13b8f54221a0",
   "metadata": {},
   "source": [
    "Sebuah klub sepak bola “PERSEGI FC” mempunyai aturan dalam memberikan nomor punggung bagi para pemainnya. Para pemain diperbolehkan mempunyai posisi lebih dari 1. Berikut adalah beberapa aturannya:\n",
    "\n",
    "1. Untuk nomor punggung genap, digunakan untuk posisi “target attacker”\n",
    "2. Untuk nomor punggung genap antara 50 – 100, digunakan untuk pemain yang “berhak dipilih menjadi capten team”\n",
    "3. Untuk nomor punggung ganjil, digunakan untuk posisi “defender”\n",
    "4. Untuk nomor punggung ganjil lebih dari 90, digunakan untuk posisi “Playmaker”\n",
    "   \n",
    "Untuk nomor punggung ganjil kelipatan dari 3 dan 5, digunakan untuk posisi “keeper”\n",
    "Buatlah program untuk melakukan pengecekan sebuah nomor punggung dapat berfungsi sebagai posisi apa saja."
   ]
  },
  {
   "cell_type": "code",
   "execution_count": 24,
   "id": "8e4be708-2c46-476a-93b8-7c6f72f432d9",
   "metadata": {},
   "outputs": [
    {
     "name": "stdin",
     "output_type": "stream",
     "text": [
      "Masukkan nomor punggung:  27\n"
     ]
    },
    {
     "name": "stdout",
     "output_type": "stream",
     "text": [
      "Defender\n"
     ]
    }
   ],
   "source": [
    "nomorPunggung = int(input(\"Masukkan nomor punggung: \"))\n",
    "\n",
    "if nomorPunggung % 2 == 0:\n",
    "    posisi = \"Target Attacker\"\n",
    "    if nomorPunggung >= 50 and nomorPunggung <= 100:\n",
    "        posisi = \"Pemain ini berhak dipilih menjadi captain team\"\n",
    "else:\n",
    "    posisi = \"Defender\"\n",
    "    if nomorPunggung > 90:\n",
    "        posisi = \"Playmaker\"\n",
    "    if nomorPunggung % 3 == 0 and nomorPunggung % 5 == 0:\n",
    "        posisi = \"Keeper\"\n",
    "\n",
    "print(posisi)"
   ]
  }
 ],
 "metadata": {
  "kernelspec": {
   "display_name": "Python 3 (ipykernel)",
   "language": "python",
   "name": "python3"
  },
  "language_info": {
   "codemirror_mode": {
    "name": "ipython",
    "version": 3
   },
   "file_extension": ".py",
   "mimetype": "text/x-python",
   "name": "python",
   "nbconvert_exporter": "python",
   "pygments_lexer": "ipython3",
   "version": "3.12.7"
  }
 },
 "nbformat": 4,
 "nbformat_minor": 5
}
