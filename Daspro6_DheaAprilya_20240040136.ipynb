{
 "cells": [
  {
   "cell_type": "markdown",
   "id": "151737b6-afcd-4278-8116-581652d88241",
   "metadata": {},
   "source": [
    "<h1>BIODATA</h1>"
   ]
  },
  {
   "cell_type": "code",
   "execution_count": 1,
   "id": "bccce4c6-f80b-4145-b9ad-c88122a62897",
   "metadata": {},
   "outputs": [
    {
     "name": "stdin",
     "output_type": "stream",
     "text": [
      "Masukan nama lengkap: Dhea Aprilya\n",
      "Masukkan tempat lahir Sukabumi\n",
      "Masukkan tanggal lahir 03 April 2006\n",
      "Masukkan pekerjaan: Mahasiswa\n",
      "Masukkan alamat: Nagrak\n",
      "Masukkan jenis kelamin: Perempuan\n",
      "Masukkan alamat email: dhea.aprilya_ti24@nusaputra.ac.id\n"
     ]
    },
    {
     "name": "stdout",
     "output_type": "stream",
     "text": [
      "\n",
      "========== Biodata Sederhana ==========\n",
      "\n",
      "Nama Lengkap             : Dhea Aprilya\n",
      "Tempat dan Tanggal Lahir : Sukabumi, 03 April 2006\n",
      "Alamat                   : Nagrak\n",
      "Jenis Kelamin            : Perempuan\n",
      "Alamat Email             : dhea.aprilya_ti24@nusaputra.ac.id\n"
     ]
    }
   ],
   "source": [
    "# Jawaban Nomor 1\n",
    "\n",
    "nama = input(\"Masukan nama lengkap:\")\n",
    "tempat = input(\"Masukkan tempat lahir\")\n",
    "tglLahir = input(\"Masukkan tanggal lahir\")\n",
    "pekerjaan = input(\"Masukkan pekerjaan:\")\n",
    "alamat = input(\"Masukkan alamat:\")\n",
    "jnsKelamin = input(\"Masukkan jenis kelamin:\")\n",
    "email = input(\"Masukkan alamat email:\")\n",
    "\n",
    "print(\"\\n========== Biodata Sederhana ==========\\n\")\n",
    "print(\"Nama Lengkap             : {}\".format(nama))\n",
    "print(\"Tempat dan Tanggal Lahir : {}, {}\".format(tempat,tglLahir))\n",
    "print(\"Alamat                   : {}\".format(alamat))\n",
    "print(\"Jenis Kelamin            : {}\".format(jnsKelamin))\n",
    "print(\"Alamat Email             : {}\".format(email))"
   ]
  },
  {
   "cell_type": "markdown",
   "id": "52da7c2e-584a-4580-b3dc-e1022f1d68b6",
   "metadata": {},
   "source": [
    "<h1>KALIMAT</h1>"
   ]
  },
  {
   "cell_type": "code",
   "execution_count": 3,
   "id": "cc4dd21d-2fd2-4579-b4e8-59a8e067b184",
   "metadata": {},
   "outputs": [
    {
     "ename": "TypeError",
     "evalue": "'tuple' object is not callable",
     "output_type": "error",
     "traceback": [
      "\u001b[1;31m---------------------------------------------------------------------------\u001b[0m",
      "\u001b[1;31mTypeError\u001b[0m                                 Traceback (most recent call last)",
      "Cell \u001b[1;32mIn[3], line 8\u001b[0m\n\u001b[0;32m      4\u001b[0m emKal \u001b[38;5;241m=\u001b[39m \u001b[38;5;124m\"\u001b[39m\u001b[38;5;124mSUKABUMI\u001b[39m\u001b[38;5;124m\"\u001b[39m\n\u001b[0;32m      5\u001b[0m \u001b[38;5;28mprint\u001b[39m \u001b[38;5;241m=\u001b[39m (\u001b[38;5;124m\"\u001b[39m\u001b[38;5;124mKalimat:\u001b[39m\u001b[38;5;124m\"\u001b[39m,satKal,duKal,tiKal,emKal)\n\u001b[1;32m----> 8\u001b[0m \u001b[38;5;28mprint\u001b[39m (\u001b[38;5;124m\"\u001b[39m\u001b[38;5;124m2.\u001b[39m\u001b[38;5;124m\"\u001b[39m, satKal\u001b[38;5;241m.\u001b[39mreplace(\u001b[38;5;124m\"\u001b[39m\u001b[38;5;124mU\u001b[39m\u001b[38;5;124m\"\u001b[39m,\u001b[38;5;124m\"\u001b[39m\u001b[38;5;124m \u001b[39m\u001b[38;5;124m\"\u001b[39m) \u001b[38;5;241m+\u001b[39m \u001b[38;5;124m\"\u001b[39m\u001b[38;5;124m \u001b[39m\u001b[38;5;124m\"\u001b[39m \u001b[38;5;241m+\u001b[39m duKal\u001b[38;5;241m.\u001b[39mreplace(\u001b[38;5;124m\"\u001b[39m\u001b[38;5;124mU\u001b[39m\u001b[38;5;124m\"\u001b[39m,\u001b[38;5;124m\"\u001b[39m\u001b[38;5;124m \u001b[39m\u001b[38;5;124m\"\u001b[39m) \u001b[38;5;241m+\u001b[39m \u001b[38;5;124m\"\u001b[39m\u001b[38;5;124m \u001b[39m\u001b[38;5;124m\"\u001b[39m \u001b[38;5;241m+\u001b[39m tiKal\u001b[38;5;241m.\u001b[39mreplace(\u001b[38;5;124m\"\u001b[39m\u001b[38;5;124mU\u001b[39m\u001b[38;5;124m\"\u001b[39m,\u001b[38;5;124m\"\u001b[39m\u001b[38;5;124m \u001b[39m\u001b[38;5;124m\"\u001b[39m) \u001b[38;5;241m+\u001b[39m \u001b[38;5;124m\"\u001b[39m\u001b[38;5;124m \u001b[39m\u001b[38;5;124m\"\u001b[39m \u001b[38;5;241m+\u001b[39m emKal\u001b[38;5;241m.\u001b[39mreplace(\u001b[38;5;124m\"\u001b[39m\u001b[38;5;124mU\u001b[39m\u001b[38;5;124m\"\u001b[39m,\u001b[38;5;124m\"\u001b[39m\u001b[38;5;124m \u001b[39m\u001b[38;5;124m\"\u001b[39m))\n\u001b[0;32m      9\u001b[0m \u001b[38;5;28mprint\u001b[39m (\u001b[38;5;124m\"\u001b[39m\u001b[38;5;124m3. \u001b[39m\u001b[38;5;132;01m{belakang}\u001b[39;00m\u001b[38;5;124m \u001b[39m\u001b[38;5;132;01m{tengah2}\u001b[39;00m\u001b[38;5;124m \u001b[39m\u001b[38;5;132;01m{tengah1}\u001b[39;00m\u001b[38;5;124m \u001b[39m\u001b[38;5;132;01m{depan}\u001b[39;00m\u001b[38;5;124m\"\u001b[39m\u001b[38;5;241m.\u001b[39m \u001b[38;5;28mformat\u001b[39m (depan\u001b[38;5;241m=\u001b[39msatKal,tengah1\u001b[38;5;241m=\u001b[39mduKal,tengah2\u001b[38;5;241m=\u001b[39mtiKal,belakang\u001b[38;5;241m=\u001b[39memKal1))\n\u001b[0;32m     10\u001b[0m \u001b[38;5;28mprint\u001b[39m (\u001b[38;5;124m\"\u001b[39m\u001b[38;5;124m4.\u001b[39m\u001b[38;5;124m\"\u001b[39m, satKal[\u001b[38;5;241m0\u001b[39m] \u001b[38;5;241m+\u001b[39m duKal[\u001b[38;5;241m0\u001b[39m] \u001b[38;5;241m+\u001b[39m tiKal[\u001b[38;5;241m0\u001b[39m] \u001b[38;5;241m+\u001b[39m emKal[\u001b[38;5;241m0\u001b[39m])\n",
      "\u001b[1;31mTypeError\u001b[0m: 'tuple' object is not callable"
     ]
    }
   ],
   "source": [
    "satKal = \"UNIVERSITAS\"\n",
    "duKal = \"NUSA\"\n",
    "tiKal = \"PUTRA\"\n",
    "emKal = \"SUKABUMI\"\n",
    "print = (\"Kalimat:\",satKal,duKal,tiKal,emKal)\n",
    "\n",
    "\n",
    "print (\"2.\", satKal.replace(\"U\",\" \") + \" \" + duKal.replace(\"U\",\" \") + \" \" + tiKal.replace(\"U\",\" \") + \" \" + emKal.replace(\"U\",\" \"))\n",
    "print (\"3. {belakang} {tengah2} {tengah1} {depan}\". format (depan=satKal,tengah1=duKal,tengah2=tiKal,belakang=emKal1))\n",
    "print (\"4.\", satKal[0] + duKal[0] + tiKal[0] + emKal[0])\n",
    "print (\"5.\", satKal[8:],duKal[2:] + tiKal[:2],emKal[4:])"
   ]
  }
 ],
 "metadata": {
  "kernelspec": {
   "display_name": "Python 3 (ipykernel)",
   "language": "python",
   "name": "python3"
  },
  "language_info": {
   "codemirror_mode": {
    "name": "ipython",
    "version": 3
   },
   "file_extension": ".py",
   "mimetype": "text/x-python",
   "name": "python",
   "nbconvert_exporter": "python",
   "pygments_lexer": "ipython3",
   "version": "3.12.7"
  }
 },
 "nbformat": 4,
 "nbformat_minor": 5
}
